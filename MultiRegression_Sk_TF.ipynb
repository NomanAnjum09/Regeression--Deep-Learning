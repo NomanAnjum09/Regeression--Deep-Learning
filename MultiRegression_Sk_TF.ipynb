{
 "cells": [
  {
   "cell_type": "code",
   "execution_count": 1,
   "metadata": {},
   "outputs": [
    {
     "name": "stdout",
     "output_type": "stream",
     "text": [
      "WARNING:tensorflow:From /home/noman/.local/lib/python3.8/site-packages/tensorflow/python/compat/v2_compat.py:96: disable_resource_variables (from tensorflow.python.ops.variable_scope) is deprecated and will be removed in a future version.\n",
      "Instructions for updating:\n",
      "non-resource variables are not supported in the long term\n"
     ]
    }
   ],
   "source": [
    "import numpy as np\n",
    "import matplotlib.pyplot as plt\n",
    "from sklearn import datasets as skds\n",
    "import tensorflow.compat.v1 as tf\n",
    "from sklearn.model_selection import train_test_split\n",
    "from sklearn.preprocessing import StandardScaler\n",
    "tf.disable_v2_behavior()\n"
   ]
  },
  {
   "cell_type": "code",
   "execution_count": 17,
   "metadata": {},
   "outputs": [],
   "source": [
    "boston = skds.load_boston()\n",
    "X= boston.data.astype(np.float32)\n",
    "y = boston.target.astype(np.float32)\n",
    "if y.ndim == 1:\n",
    "    y = y.reshape(-1,1)\n",
    "X= StandardScaler().fit_transform(X)\n"
   ]
  },
  {
   "cell_type": "code",
   "execution_count": 3,
   "metadata": {},
   "outputs": [],
   "source": [
    "#print(boston.DESCR)"
   ]
  },
  {
   "cell_type": "code",
   "execution_count": 20,
   "metadata": {},
   "outputs": [],
   "source": [
    "X_train,X_test,y_train,y_test = train_test_split(X,y,test_size=0.3,random_state=1)\n",
    "\n",
    "n_input = X_train.shape[1]\n",
    "n_output= y_train.shape[1]\n",
    "x_tensor = tf.placeholder(tf.float32,shape=[None,n_input])\n",
    "y_tensor = tf.placeholder(tf.float32,shape=[None,n_output])\n",
    "w = tf.Variable(tf.zeros([n_input,n_output]),tf.float32)\n",
    "b = tf.Variable(tf.zeros([n_output]),tf.float32)\n",
    "\n",
    "model = tf.matmul(x_tensor,w)+b"
   ]
  },
  {
   "cell_type": "code",
   "execution_count": 5,
   "metadata": {},
   "outputs": [
    {
     "name": "stdout",
     "output_type": "stream",
     "text": [
      "WARNING:tensorflow:From <ipython-input-5-527eaf7dd295>:4: div (from tensorflow.python.ops.math_ops) is deprecated and will be removed in a future version.\n",
      "Instructions for updating:\n",
      "Deprecated in favor of operator or tf.math.divide.\n"
     ]
    }
   ],
   "source": [
    "loss = tf.reduce_mean(tf.square(model-y_tensor))\n",
    "y_mean = tf.reduce_mean(y_tensor)\n",
    "total_error = tf.reduce_sum(tf.square(y_tensor-y_mean))\n",
    "gof = 1- tf.div(loss,total_error)"
   ]
  },
  {
   "cell_type": "code",
   "execution_count": 6,
   "metadata": {},
   "outputs": [],
   "source": [
    "learning_rate = 0.001\n",
    "optimizer = tf.train.GradientDescentOptimizer(learning_rate).minimize(loss)\n",
    "n_epoch = 1000\n",
    "\n",
    "## W and b estimates\n",
    "w_hat = 0\n",
    "b_hat = 0"
   ]
  },
  {
   "cell_type": "code",
   "execution_count": 7,
   "metadata": {},
   "outputs": [],
   "source": [
    "import numpy as np\n",
    "loss_epochs = np.empty(shape=[n_epoch],dtype = float)\n",
    "mse_epoch = np.empty(shape=[n_epoch],dtype = float)\n",
    "gof_epoch = np.empty(shape=[n_epoch],dtype = float)\n",
    "mse_score = 0\n",
    "gof_score = 0"
   ]
  },
  {
   "cell_type": "code",
   "execution_count": 11,
   "metadata": {},
   "outputs": [
    {
     "name": "stdout",
     "output_type": "stream",
     "text": [
      "[[-0.4867319   0.5470343  -0.15373416  1.1908529  -0.8027023   2.3671966\n",
      "  -0.2967665  -0.84445715  0.47312847 -0.28057504 -1.846927    0.74214906\n",
      "  -2.731776  ]]\n",
      "[19.432411]\n",
      "For Test Data: MSE = 33.18717956542969 and R^2 = 0.9976178407669067\n"
     ]
    }
   ],
   "source": [
    "with tf.Session() as tfs:\n",
    "    tfs.run(tf.global_variables_initializer())\n",
    "    for epoch in range(n_epoch):\n",
    "        feed_dict1 = {x_tensor:X_train,y_tensor:y_train}\n",
    "        loss_val,_ = tfs.run([loss,optimizer],feed_dict=feed_dict1)\n",
    "        loss_epochs[epoch] = loss_val\n",
    "        \n",
    "        feed_dict2 = {x_tensor:X_test,y_tensor:y_test}\n",
    "        mse_score,gof_score = tfs.run([loss,gof],feed_dict=feed_dict2)\n",
    "        mse_epoch[epoch] = mse_score\n",
    "        gof_epoch[epoch] = gof_score\n",
    "    w_hat,b_hat = tfs.run([w,b])\n",
    "    w_hat = w_hat.reshape(1,-1)\n",
    "print(w_hat)\n",
    "print(b_hat)\n",
    "#print(\"model : Y = {}X + {}\".format(round(w_hat[0],4),round(b_hat[0],4)))\n",
    "print(\"For Test Data: MSE = {} and R^2 = {}\".format(mse_score,gof_score))"
   ]
  },
  {
   "cell_type": "code",
   "execution_count": null,
   "metadata": {},
   "outputs": [],
   "source": [
    "print"
   ]
  }
 ],
 "metadata": {
  "kernelspec": {
   "display_name": "Python 3",
   "language": "python",
   "name": "python3"
  },
  "language_info": {
   "codemirror_mode": {
    "name": "ipython",
    "version": 3
   },
   "file_extension": ".py",
   "mimetype": "text/x-python",
   "name": "python",
   "nbconvert_exporter": "python",
   "pygments_lexer": "ipython3",
   "version": "3.8.2"
  }
 },
 "nbformat": 4,
 "nbformat_minor": 4
}
